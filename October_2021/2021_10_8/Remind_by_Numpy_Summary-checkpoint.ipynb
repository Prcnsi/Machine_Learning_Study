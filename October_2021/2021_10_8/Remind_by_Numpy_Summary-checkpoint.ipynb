{
 "cells": [
  {
   "cell_type": "markdown",
   "id": "e5e5b7b0",
   "metadata": {},
   "source": [
    "# 1. Numpy 총 복습 !"
   ]
  },
  {
   "cell_type": "markdown",
   "id": "4b0ba4ea",
   "metadata": {},
   "source": [
    "## 1.1 자료형 생성/확인/변경/정렬"
   ]
  },
  {
   "cell_type": "code",
   "execution_count": 23,
   "id": "9306cb37",
   "metadata": {},
   "outputs": [],
   "source": [
    "import numpy as np"
   ]
  },
  {
   "cell_type": "code",
   "execution_count": 20,
   "id": "1ea68767",
   "metadata": {},
   "outputs": [],
   "source": [
    "exam_arr=[1,2,3]\n",
    "reciv_arr=np.array(exam_arr)"
   ]
  },
  {
   "cell_type": "code",
   "execution_count": 3,
   "id": "1a20601a",
   "metadata": {},
   "outputs": [
    {
     "name": "stdout",
     "output_type": "stream",
     "text": [
      "[1 2 3]\n"
     ]
    }
   ],
   "source": [
    "print(reciv_arr)"
   ]
  },
  {
   "cell_type": "code",
   "execution_count": 11,
   "id": "f5c58eef",
   "metadata": {},
   "outputs": [
    {
     "name": "stdout",
     "output_type": "stream",
     "text": [
      "[  3   2 168]\n"
     ]
    }
   ],
   "source": [
    "# 자료형 변경\n",
    "float_arr=np.array([3.14,2.1,168.5])\n",
    "# 이 예제에서는 실수를 정수로 바꾸자 소수점이 떼어지는 것을 확인 가능\n",
    "print(float_arr.astype('int64'))"
   ]
  },
  {
   "cell_type": "code",
   "execution_count": 8,
   "id": "77e6a408",
   "metadata": {},
   "outputs": [
    {
     "name": "stdout",
     "output_type": "stream",
     "text": [
      "[[ 1  2  3  4  5]\n",
      " [ 6  7  8  9 10]]\n"
     ]
    }
   ],
   "source": [
    "# 구조 변경\n",
    "arr=[1,2,3,4,5,6,7,8,9,10]\n",
    "nd_arr=np.array(arr)\n",
    "print(nd_arr.reshape(2,5))"
   ]
  },
  {
   "cell_type": "code",
   "execution_count": 12,
   "id": "ace112d9",
   "metadata": {},
   "outputs": [
    {
     "name": "stdout",
     "output_type": "stream",
     "text": [
      "[0 1 2 3 4 5 6 7 8 9]\n"
     ]
    }
   ],
   "source": [
    "# range: 순차적 배열 생성\n",
    "seq_arr=np.arange(10)\n",
    "print(seq_arr)"
   ]
  },
  {
   "cell_type": "code",
   "execution_count": 14,
   "id": "8df621c4",
   "metadata": {},
   "outputs": [
    {
     "name": "stdout",
     "output_type": "stream",
     "text": [
      "[[0 0 0]\n",
      " [0 0 0]\n",
      " [0 0 0]\n",
      " [0 0 0]\n",
      " [0 0 0]]\n"
     ]
    }
   ],
   "source": [
    "# zeros: 0으로 초기화된 배열 생성\n",
    "zero_arr=np.zeros((5,3),dtype='int64')\n",
    "print(zero_arr)"
   ]
  },
  {
   "cell_type": "code",
   "execution_count": 15,
   "id": "46af0693",
   "metadata": {},
   "outputs": [
    {
     "name": "stdout",
     "output_type": "stream",
     "text": [
      "[[1. 1.]\n",
      " [1. 1.]\n",
      " [1. 1.]\n",
      " [1. 1.]]\n"
     ]
    }
   ],
   "source": [
    "# ones: 1로 초기화된 배열 생성\n",
    "one_arr=np.ones((4,2),dtype='float64')\n",
    "print(one_arr)"
   ]
  },
  {
   "cell_type": "code",
   "execution_count": 16,
   "id": "a739b391",
   "metadata": {},
   "outputs": [
    {
     "name": "stdout",
     "output_type": "stream",
     "text": [
      "<class 'numpy.ndarray'>\n"
     ]
    }
   ],
   "source": [
    "ex_arr=np.array([4,5,6])\n",
    "print(type(ex_arr))"
   ]
  },
  {
   "cell_type": "code",
   "execution_count": 17,
   "id": "ede9b7c8",
   "metadata": {},
   "outputs": [
    {
     "name": "stdout",
     "output_type": "stream",
     "text": [
      "int32\n"
     ]
    }
   ],
   "source": [
    "print(ex_arr.dtype)"
   ]
  },
  {
   "cell_type": "code",
   "execution_count": 18,
   "id": "325cd531",
   "metadata": {},
   "outputs": [
    {
     "name": "stdout",
     "output_type": "stream",
     "text": [
      "(3,)\n"
     ]
    }
   ],
   "source": [
    "print(ex_arr.shape)"
   ]
  },
  {
   "cell_type": "code",
   "execution_count": 37,
   "id": "62c90741",
   "metadata": {},
   "outputs": [
    {
     "name": "stdout",
     "output_type": "stream",
     "text": [
      "[ 1  3 10 22 45 67 97]\n"
     ]
    }
   ],
   "source": [
    "# 원본 배열 생성\n",
    "hi_arr=np.array([3,22,1,45,67,97,10])\n",
    "\n",
    "# np.sort(배열): 리턴값만 정렬 원본 그대로\n",
    "# 반환값만 출력하고 \n",
    "nps_arr=np.sort(hi_arr)\n",
    "print(nps_arr)"
   ]
  },
  {
   "cell_type": "code",
   "execution_count": 40,
   "id": "ab000009",
   "metadata": {},
   "outputs": [
    {
     "name": "stdout",
     "output_type": "stream",
     "text": [
      "[ 3 22  1 45 67 97 10]\n"
     ]
    }
   ],
   "source": [
    "# 원본은 그대로\n",
    "print(hi_arr)"
   ]
  },
  {
   "cell_type": "code",
   "execution_count": 41,
   "id": "3cd17546",
   "metadata": {},
   "outputs": [
    {
     "name": "stdout",
     "output_type": "stream",
     "text": [
      "[2 0 6 1 3 4 5]\n"
     ]
    }
   ],
   "source": [
    "# np.argsort(배열)는 순차적일시의 인덱스를 반환합니다.\n",
    "print(np.argsort(hi_arr))"
   ]
  },
  {
   "cell_type": "code",
   "execution_count": 42,
   "id": "398de635",
   "metadata": {},
   "outputs": [
    {
     "name": "stdout",
     "output_type": "stream",
     "text": [
      "None\n"
     ]
    }
   ],
   "source": [
    "# 배열.sort(): 원본 정렬 리턴값 없음!\n",
    "as_arr=hi_arr.sort()\n",
    "\n",
    "# 반환값 없음\n",
    "print(as_arr)"
   ]
  },
  {
   "cell_type": "code",
   "execution_count": 43,
   "id": "37e00904",
   "metadata": {},
   "outputs": [
    {
     "name": "stdout",
     "output_type": "stream",
     "text": [
      "[ 1  3 10 22 45 67 97]\n"
     ]
    }
   ],
   "source": [
    "# 원본이 정렬\n",
    "print(hi_arr)"
   ]
  },
  {
   "cell_type": "code",
   "execution_count": 6,
   "id": "87f85109",
   "metadata": {},
   "outputs": [
    {
     "name": "stdout",
     "output_type": "stream",
     "text": [
      "[1 2 3 4 5 6 7 8 9]\n"
     ]
    }
   ],
   "source": [
    "import numpy as np\n",
    "\n",
    "# 1차원 배열 선언\n",
    "arr_1d=np.arange(start=1,stop=10)\n",
    "\n",
    "# 1차원 배열 인덱스\n",
    "print(arr_1d)"
   ]
  },
  {
   "cell_type": "code",
   "execution_count": 11,
   "id": "0041e681",
   "metadata": {},
   "outputs": [
    {
     "name": "stdout",
     "output_type": "stream",
     "text": [
      "[4 5 6 7]\n"
     ]
    }
   ],
   "source": [
    "# 1차원 배열 슬라이싱: 배열[a:b]=a+1번째에서 b번째까지 !!\n",
    "print(arr_1d[3:7])"
   ]
  },
  {
   "cell_type": "code",
   "execution_count": 12,
   "id": "f0a3b88d",
   "metadata": {},
   "outputs": [
    {
     "name": "stdout",
     "output_type": "stream",
     "text": [
      "[[1 2 3]\n",
      " [4 5 6]\n",
      " [7 8 9]]\n"
     ]
    }
   ],
   "source": [
    "# 2차원 배열 선언(깁)\n",
    "arr_2d=arr_1d.reshape(3,3)\n",
    "print(arr_2d)"
   ]
  },
  {
   "cell_type": "code",
   "execution_count": 13,
   "id": "9c72448c",
   "metadata": {},
   "outputs": [
    {
     "name": "stdout",
     "output_type": "stream",
     "text": [
      "6\n"
     ]
    }
   ],
   "source": [
    "# 2차원 배열 인덱싱\n",
    "print(arr_2d[1,2])"
   ]
  },
  {
   "cell_type": "code",
   "execution_count": 15,
   "id": "c5c20d8f",
   "metadata": {},
   "outputs": [
    {
     "name": "stdout",
     "output_type": "stream",
     "text": [
      "[[5]\n",
      " [8]]\n"
     ]
    }
   ],
   "source": [
    "# 2차원 배열 슬라이싱\n",
    "# ex) 5,8을 출력하고 싶을 때\n",
    "print(arr_2d[1:3,1:2])"
   ]
  }
 ],
 "metadata": {
  "kernelspec": {
   "display_name": "Python 3",
   "language": "python",
   "name": "python3"
  },
  "language_info": {
   "codemirror_mode": {
    "name": "ipython",
    "version": 3
   },
   "file_extension": ".py",
   "mimetype": "text/x-python",
   "name": "python",
   "nbconvert_exporter": "python",
   "pygments_lexer": "ipython3",
   "version": "3.8.8"
  }
 },
 "nbformat": 4,
 "nbformat_minor": 5
}
