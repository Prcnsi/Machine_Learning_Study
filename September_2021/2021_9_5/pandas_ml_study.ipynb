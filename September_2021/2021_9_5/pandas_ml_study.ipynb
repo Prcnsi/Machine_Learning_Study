{
 "cells": [
  {
   "cell_type": "code",
   "execution_count": 6,
   "id": "05b749e7",
   "metadata": {},
   "outputs": [
    {
     "name": "stdout",
     "output_type": "stream",
     "text": [
      "합친 경로: https://archive.ics.edu\\ml\\machine-learning-databases\\iris\\iris.data\n"
     ]
    }
   ],
   "source": [
    "import os\n",
    "import pandas as pd\n",
    "#아니 이 말을 이렇게 어렵게 정리해 놨다고? 내가 정리해준다.\n",
    "#os.path.join이 뭐냐면 경로 합치는 명령어임!\n",
    "# 예를 들어서 os.path.join('a','b')는 a/b라는 \"새경로를 생성\"해줌!(리스트로 전달 가능)\n",
    "\n",
    "#s=os.path.join('https://archive.ics.edu','ml','machine-learning-databases','iris','iris.data')\n",
    "#print(\"합친 경로:\",s)"
   ]
  },
  {
   "cell_type": "code",
   "execution_count": 7,
   "id": "7ab10f37",
   "metadata": {},
   "outputs": [
    {
     "name": "stdout",
     "output_type": "stream",
     "text": [
      "C:\\Users\\J-365\\file.py\n"
     ]
    }
   ],
   "source": [
    "#자 이건 또 무슨 말이냐면 위와 같이 똑같이 경로를 합치는데 이때 인자가 \n",
    "#pwd같은 os.getcwd를 사용해서 한 인자를 주는거\n",
    "print(os.path.join(os.getcwd(),'file.py'))"
   ]
  },
  {
   "cell_type": "code",
   "execution_count": 9,
   "id": "9c3ed84f",
   "metadata": {},
   "outputs": [
    {
     "name": "stdout",
     "output_type": "stream",
     "text": [
      "C:\\Users\\web-crawler-py\\parsed_data\n"
     ]
    }
   ],
   "source": [
    "#절대경로출력\n",
    "print(os.path.abspath(\"web-crawler-py/parsed_data\"))"
   ]
  },
  {
   "cell_type": "code",
   "execution_count": 10,
   "id": "a4f56e85",
   "metadata": {},
   "outputs": [
    {
     "data": {
      "text/plain": [
       "[\"https://archive.ics.edu','ml','machine-learning-databases\"]"
      ]
     },
     "execution_count": 10,
     "metadata": {},
     "output_type": "execute_result"
    }
   ],
   "source": [
    "\"https://archive.ics.edu','ml','machine-learning-databases\".split(os.path.sep)"
   ]
  },
  {
   "cell_type": "code",
   "execution_count": 21,
   "id": "de36ef55",
   "metadata": {},
   "outputs": [],
   "source": [
    "#판다스에는 시리즈와 데이터프레임(테이블생성느낌) 패널이 있다.\n",
    "#시리즈는 리스트(1차원의 데이터)와 비슷한데 인덱스에 이름 부여 가능->Series()\n",
    "#데이터프레임은 2차원 자료궂로 행열 존재"
   ]
  },
  {
   "cell_type": "code",
   "execution_count": 18,
   "id": "e017d0ad",
   "metadata": {},
   "outputs": [
    {
     "name": "stdout",
     "output_type": "stream",
     "text": [
      "     name  age   num      house\n",
      "1      길동   21  6793  myeong_ji\n",
      "2      지선   21  3434  myeong_ji\n",
      "3  prcnsi   21  4332    sindosi\n",
      "4     나야나   21  3424      busan\n"
     ]
    }
   ],
   "source": [
    "#딕셔너리 형식으로 2차원 배열 선언(테이블생성 느낌)\n",
    "data={'name':['길동','지선','prcnsi','나야나'],\n",
    "      'age':[21,21,21,21],\n",
    "      'num':[6793,3434,4332,3424],\n",
    "      'house':['myeong_ji','myeong_ji',\"sindosi\",'busan']\n",
    "     }\n",
    "data1=pd.DataFrame(data,index=list('1234'))\n",
    "print(data1)"
   ]
  },
  {
   "cell_type": "code",
   "execution_count": 23,
   "id": "5265d6b3",
   "metadata": {},
   "outputs": [
    {
     "name": "stdout",
     "output_type": "stream",
     "text": [
      "<class 'pandas.core.frame.DataFrame'>\n",
      "Index: 4 entries, 1 to 4\n",
      "Data columns (total 4 columns):\n",
      " #   Column  Non-Null Count  Dtype \n",
      "---  ------  --------------  ----- \n",
      " 0   name    4 non-null      object\n",
      " 1   age     4 non-null      int64 \n",
      " 2   num     4 non-null      int64 \n",
      " 3   house   4 non-null      object\n",
      "dtypes: int64(2), object(2)\n",
      "memory usage: 160.0+ bytes\n",
      "None\n"
     ]
    }
   ],
   "source": [
    "print(data1.info())"
   ]
  },
  {
   "cell_type": "code",
   "execution_count": 19,
   "id": "f171e5a6",
   "metadata": {},
   "outputs": [
    {
     "name": "stdout",
     "output_type": "stream",
     "text": [
      "               1          2        3      4\n",
      "name          길동         지선   prcnsi    나야나\n",
      "age           21         21       21     21\n",
      "num         6793       3434     4332   3424\n",
      "house  myeong_ji  myeong_ji  sindosi  busan\n"
     ]
    }
   ],
   "source": [
    "print(data1.T)\n",
    "#치환"
   ]
  },
  {
   "cell_type": "code",
   "execution_count": 20,
   "id": "9980513f",
   "metadata": {},
   "outputs": [
    {
     "data": {
      "text/plain": [
       "Index(['1', '2', '3', '4'], dtype='object')"
      ]
     },
     "execution_count": 20,
     "metadata": {},
     "output_type": "execute_result"
    }
   ],
   "source": [
    "data1.index"
   ]
  },
  {
   "cell_type": "code",
   "execution_count": 21,
   "id": "a7363a18",
   "metadata": {},
   "outputs": [
    {
     "data": {
      "text/plain": [
       "Index(['name', 'age', 'num', 'house'], dtype='object')"
      ]
     },
     "execution_count": 21,
     "metadata": {},
     "output_type": "execute_result"
    }
   ],
   "source": [
    "data1.columns\n"
   ]
  },
  {
   "cell_type": "code",
   "execution_count": 22,
   "id": "7d0b6f0e",
   "metadata": {},
   "outputs": [
    {
     "name": "stdout",
     "output_type": "stream",
     "text": [
      "               1          2        3      4\n",
      "name          길동         지선   prcnsi    나야나\n",
      "age           21         21       21     21\n",
      "num         6793       3434     4332   3424\n",
      "house  myeong_ji  myeong_ji  sindosi  busan\n"
     ]
    }
   ],
   "source": [
    "print(data1.T)"
   ]
  },
  {
   "cell_type": "code",
   "execution_count": 28,
   "id": "0b57f7d7",
   "metadata": {},
   "outputs": [
    {
     "data": {
      "text/plain": [
       "Index(['name', 'age', 'num', 'house'], dtype='object')"
      ]
     },
     "execution_count": 28,
     "metadata": {},
     "output_type": "execute_result"
    }
   ],
   "source": [
    "data1.columns"
   ]
  },
  {
   "cell_type": "code",
   "execution_count": 23,
   "id": "1a160d4f",
   "metadata": {},
   "outputs": [
    {
     "name": "stdout",
     "output_type": "stream",
     "text": [
      "     name  age   num      house\n",
      "1      길동   21  6793  myeong_ji\n",
      "2      지선   21  3434  myeong_ji\n",
      "3  prcnsi   21  4332    sindosi\n",
      "4     나야나   21  3424      busan\n"
     ]
    }
   ],
   "source": [
    "print(data1)"
   ]
  },
  {
   "cell_type": "code",
   "execution_count": 24,
   "id": "f336ee32",
   "metadata": {},
   "outputs": [
    {
     "data": {
      "text/plain": [
       "array([['길동', 21, 6793, 'myeong_ji'],\n",
       "       ['지선', 21, 3434, 'myeong_ji'],\n",
       "       ['prcnsi', 21, 4332, 'sindosi'],\n",
       "       ['나야나', 21, 3424, 'busan']], dtype=object)"
      ]
     },
     "execution_count": 24,
     "metadata": {},
     "output_type": "execute_result"
    }
   ],
   "source": [
    "data1.values"
   ]
  },
  {
   "cell_type": "code",
   "execution_count": 31,
   "id": "0310a564",
   "metadata": {},
   "outputs": [
    {
     "data": {
      "text/html": [
       "<div>\n",
       "<style scoped>\n",
       "    .dataframe tbody tr th:only-of-type {\n",
       "        vertical-align: middle;\n",
       "    }\n",
       "\n",
       "    .dataframe tbody tr th {\n",
       "        vertical-align: top;\n",
       "    }\n",
       "\n",
       "    .dataframe thead th {\n",
       "        text-align: right;\n",
       "    }\n",
       "</style>\n",
       "<table border=\"1\" class=\"dataframe\">\n",
       "  <thead>\n",
       "    <tr style=\"text-align: right;\">\n",
       "      <th></th>\n",
       "      <th>age</th>\n",
       "      <th>num</th>\n",
       "    </tr>\n",
       "  </thead>\n",
       "  <tbody>\n",
       "    <tr>\n",
       "      <th>count</th>\n",
       "      <td>4.0</td>\n",
       "      <td>4.000000</td>\n",
       "    </tr>\n",
       "    <tr>\n",
       "      <th>mean</th>\n",
       "      <td>21.0</td>\n",
       "      <td>4495.750000</td>\n",
       "    </tr>\n",
       "    <tr>\n",
       "      <th>std</th>\n",
       "      <td>0.0</td>\n",
       "      <td>1589.563121</td>\n",
       "    </tr>\n",
       "    <tr>\n",
       "      <th>min</th>\n",
       "      <td>21.0</td>\n",
       "      <td>3424.000000</td>\n",
       "    </tr>\n",
       "    <tr>\n",
       "      <th>25%</th>\n",
       "      <td>21.0</td>\n",
       "      <td>3431.500000</td>\n",
       "    </tr>\n",
       "    <tr>\n",
       "      <th>50%</th>\n",
       "      <td>21.0</td>\n",
       "      <td>3883.000000</td>\n",
       "    </tr>\n",
       "    <tr>\n",
       "      <th>75%</th>\n",
       "      <td>21.0</td>\n",
       "      <td>4947.250000</td>\n",
       "    </tr>\n",
       "    <tr>\n",
       "      <th>max</th>\n",
       "      <td>21.0</td>\n",
       "      <td>6793.000000</td>\n",
       "    </tr>\n",
       "  </tbody>\n",
       "</table>\n",
       "</div>"
      ],
      "text/plain": [
       "        age          num\n",
       "count   4.0     4.000000\n",
       "mean   21.0  4495.750000\n",
       "std     0.0  1589.563121\n",
       "min    21.0  3424.000000\n",
       "25%    21.0  3431.500000\n",
       "50%    21.0  3883.000000\n",
       "75%    21.0  4947.250000\n",
       "max    21.0  6793.000000"
      ]
     },
     "execution_count": 31,
     "metadata": {},
     "output_type": "execute_result"
    }
   ],
   "source": [
    "data1.describe()"
   ]
  },
  {
   "cell_type": "code",
   "execution_count": 51,
   "id": "d5cd7b8e",
   "metadata": {},
   "outputs": [
    {
     "name": "stdout",
     "output_type": "stream",
     "text": [
      "       0    1    2    3               4\n",
      "0    5.1  3.5  1.4  0.2     Iris-setosa\n",
      "1    4.9  3.0  1.4  0.2     Iris-setosa\n",
      "2    4.7  3.2  1.3  0.2     Iris-setosa\n",
      "3    4.6  3.1  1.5  0.2     Iris-setosa\n",
      "4    5.0  3.6  1.4  0.2     Iris-setosa\n",
      "..   ...  ...  ...  ...             ...\n",
      "145  6.7  3.0  5.2  2.3  Iris-virginica\n",
      "146  6.3  2.5  5.0  1.9  Iris-virginica\n",
      "147  6.5  3.0  5.2  2.0  Iris-virginica\n",
      "148  6.2  3.4  5.4  2.3  Iris-virginica\n",
      "149  5.9  3.0  5.1  1.8  Iris-virginica\n",
      "\n",
      "[150 rows x 5 columns]\n"
     ]
    }
   ],
   "source": [
    "read_data=pd.read_csv('C:/Users/J-365/Downloads/iris.data',header=None,encoding='utf=8')\n",
    "print(read_data)"
   ]
  },
  {
   "cell_type": "code",
   "execution_count": 14,
   "id": "74d3de00",
   "metadata": {},
   "outputs": [
    {
     "data": {
      "text/html": [
       "<div>\n",
       "<style scoped>\n",
       "    .dataframe tbody tr th:only-of-type {\n",
       "        vertical-align: middle;\n",
       "    }\n",
       "\n",
       "    .dataframe tbody tr th {\n",
       "        vertical-align: top;\n",
       "    }\n",
       "\n",
       "    .dataframe thead th {\n",
       "        text-align: right;\n",
       "    }\n",
       "</style>\n",
       "<table border=\"1\" class=\"dataframe\">\n",
       "  <thead>\n",
       "    <tr style=\"text-align: right;\">\n",
       "      <th></th>\n",
       "      <th>0</th>\n",
       "      <th>1</th>\n",
       "      <th>2</th>\n",
       "      <th>3</th>\n",
       "      <th>4</th>\n",
       "      <th>5</th>\n",
       "      <th>6</th>\n",
       "      <th>7</th>\n",
       "      <th>8</th>\n",
       "      <th>9</th>\n",
       "      <th>10</th>\n",
       "      <th>11</th>\n",
       "    </tr>\n",
       "  </thead>\n",
       "  <tbody>\n",
       "    <tr>\n",
       "      <th>0</th>\n",
       "      <td>PassengerId</td>\n",
       "      <td>Survived</td>\n",
       "      <td>Pclass</td>\n",
       "      <td>Name</td>\n",
       "      <td>Sex</td>\n",
       "      <td>Age</td>\n",
       "      <td>SibSp</td>\n",
       "      <td>Parch</td>\n",
       "      <td>Ticket</td>\n",
       "      <td>Fare</td>\n",
       "      <td>Cabin</td>\n",
       "      <td>Embarked</td>\n",
       "    </tr>\n",
       "    <tr>\n",
       "      <th>1</th>\n",
       "      <td>1</td>\n",
       "      <td>0</td>\n",
       "      <td>3</td>\n",
       "      <td>Braund, Mr. Owen Harris</td>\n",
       "      <td>male</td>\n",
       "      <td>22</td>\n",
       "      <td>1</td>\n",
       "      <td>0</td>\n",
       "      <td>A/5 21171</td>\n",
       "      <td>7.25</td>\n",
       "      <td>NaN</td>\n",
       "      <td>S</td>\n",
       "    </tr>\n",
       "    <tr>\n",
       "      <th>2</th>\n",
       "      <td>2</td>\n",
       "      <td>1</td>\n",
       "      <td>1</td>\n",
       "      <td>Cumings, Mrs. John Bradley (Florence Briggs Th...</td>\n",
       "      <td>female</td>\n",
       "      <td>38</td>\n",
       "      <td>1</td>\n",
       "      <td>0</td>\n",
       "      <td>PC 17599</td>\n",
       "      <td>71.2833</td>\n",
       "      <td>C85</td>\n",
       "      <td>C</td>\n",
       "    </tr>\n",
       "    <tr>\n",
       "      <th>3</th>\n",
       "      <td>3</td>\n",
       "      <td>1</td>\n",
       "      <td>3</td>\n",
       "      <td>Heikkinen, Miss. Laina</td>\n",
       "      <td>female</td>\n",
       "      <td>26</td>\n",
       "      <td>0</td>\n",
       "      <td>0</td>\n",
       "      <td>STON/O2. 3101282</td>\n",
       "      <td>7.925</td>\n",
       "      <td>NaN</td>\n",
       "      <td>S</td>\n",
       "    </tr>\n",
       "    <tr>\n",
       "      <th>4</th>\n",
       "      <td>4</td>\n",
       "      <td>1</td>\n",
       "      <td>1</td>\n",
       "      <td>Futrelle, Mrs. Jacques Heath (Lily May Peel)</td>\n",
       "      <td>female</td>\n",
       "      <td>35</td>\n",
       "      <td>1</td>\n",
       "      <td>0</td>\n",
       "      <td>113803</td>\n",
       "      <td>53.1</td>\n",
       "      <td>C123</td>\n",
       "      <td>S</td>\n",
       "    </tr>\n",
       "  </tbody>\n",
       "</table>\n",
       "</div>"
      ],
      "text/plain": [
       "            0         1       2   \\\n",
       "0  PassengerId  Survived  Pclass   \n",
       "1            1         0       3   \n",
       "2            2         1       1   \n",
       "3            3         1       3   \n",
       "4            4         1       1   \n",
       "\n",
       "                                                  3       4    5      6   \\\n",
       "0                                               Name     Sex  Age  SibSp   \n",
       "1                            Braund, Mr. Owen Harris    male   22      1   \n",
       "2  Cumings, Mrs. John Bradley (Florence Briggs Th...  female   38      1   \n",
       "3                             Heikkinen, Miss. Laina  female   26      0   \n",
       "4       Futrelle, Mrs. Jacques Heath (Lily May Peel)  female   35      1   \n",
       "\n",
       "      7                 8        9      10        11  \n",
       "0  Parch            Ticket     Fare  Cabin  Embarked  \n",
       "1      0         A/5 21171     7.25    NaN         S  \n",
       "2      0          PC 17599  71.2833    C85         C  \n",
       "3      0  STON/O2. 3101282    7.925    NaN         S  \n",
       "4      0            113803     53.1   C123         S  "
      ]
     },
     "execution_count": 14,
     "metadata": {},
     "output_type": "execute_result"
    }
   ],
   "source": [
    "import pandas as pd\n",
    "readed_data=pd.read_csv('C:/Users/J-365/Downloads/train.csv',header=None,encoding='utf=8')\n",
    "data2=pd.DataFrame(readed_data,index=list('1234'))\n",
    "readed_data.head(5)"
   ]
  },
  {
   "cell_type": "code",
   "execution_count": 15,
   "id": "46ccf1c0",
   "metadata": {},
   "outputs": [
    {
     "data": {
      "text/plain": [
       "(892, 12)"
      ]
     },
     "execution_count": 15,
     "metadata": {},
     "output_type": "execute_result"
    }
   ],
   "source": [
    "readed_data.shape"
   ]
  },
  {
   "cell_type": "code",
   "execution_count": 29,
   "id": "0e22e74e",
   "metadata": {},
   "outputs": [
    {
     "name": "stdout",
     "output_type": "stream",
     "text": [
      "<class 'pandas.core.frame.DataFrame'>\n",
      "RangeIndex: 892 entries, 0 to 891\n",
      "Data columns (total 12 columns):\n",
      " #   Column  Non-Null Count  Dtype \n",
      "---  ------  --------------  ----- \n",
      " 0   0       892 non-null    object\n",
      " 1   1       892 non-null    object\n",
      " 2   2       892 non-null    object\n",
      " 3   3       892 non-null    object\n",
      " 4   4       892 non-null    object\n",
      " 5   5       715 non-null    object\n",
      " 6   6       892 non-null    object\n",
      " 7   7       892 non-null    object\n",
      " 8   8       892 non-null    object\n",
      " 9   9       892 non-null    object\n",
      " 10  10      205 non-null    object\n",
      " 11  11      890 non-null    object\n",
      "dtypes: object(12)\n",
      "memory usage: 83.8+ KB\n"
     ]
    }
   ],
   "source": [
    "readed_data.info()"
   ]
  },
  {
   "cell_type": "code",
   "execution_count": 30,
   "id": "e0a38d3c",
   "metadata": {},
   "outputs": [
    {
     "name": "stdout",
     "output_type": "stream",
     "text": [
      "   김   이    박\n",
      "0  1  33  345\n",
      "1  2  43   46\n",
      "2  3  34  567\n"
     ]
    }
   ],
   "source": [
    "#딕셔너리로 DataFrame 만드려면 선언할 때 key=행 시작 값,value=세로로 나열된다 생각하고 선언!\n",
    "dic={'김':[1,2,3],'이':[33,43,34],'박':[345,46,567]}\n",
    "df_dic=pd.DataFrame(dic)\n",
    "print(df_dic)"
   ]
  },
  {
   "cell_type": "code",
   "execution_count": 27,
   "id": "740512e4",
   "metadata": {},
   "outputs": [
    {
     "name": "stdout",
     "output_type": "stream",
     "text": [
      "(3, 3)\n"
     ]
    }
   ],
   "source": [
    "print(df_dic.shape)"
   ]
  },
  {
   "cell_type": "code",
   "execution_count": 28,
   "id": "caf74df6",
   "metadata": {},
   "outputs": [
    {
     "name": "stdout",
     "output_type": "stream",
     "text": [
      "<class 'pandas.core.frame.DataFrame'>\n"
     ]
    }
   ],
   "source": [
    "print(type(df_dic))"
   ]
  },
  {
   "cell_type": "code",
   "execution_count": 32,
   "id": "a2b9c110",
   "metadata": {},
   "outputs": [
    {
     "data": {
      "text/html": [
       "<div>\n",
       "<style scoped>\n",
       "    .dataframe tbody tr th:only-of-type {\n",
       "        vertical-align: middle;\n",
       "    }\n",
       "\n",
       "    .dataframe tbody tr th {\n",
       "        vertical-align: top;\n",
       "    }\n",
       "\n",
       "    .dataframe thead th {\n",
       "        text-align: right;\n",
       "    }\n",
       "</style>\n",
       "<table border=\"1\" class=\"dataframe\">\n",
       "  <thead>\n",
       "    <tr style=\"text-align: right;\">\n",
       "      <th></th>\n",
       "      <th>0</th>\n",
       "      <th>1</th>\n",
       "      <th>2</th>\n",
       "      <th>3</th>\n",
       "      <th>4</th>\n",
       "      <th>5</th>\n",
       "      <th>6</th>\n",
       "      <th>7</th>\n",
       "      <th>8</th>\n",
       "      <th>9</th>\n",
       "      <th>10</th>\n",
       "      <th>11</th>\n",
       "      <th>ex</th>\n",
       "    </tr>\n",
       "  </thead>\n",
       "  <tbody>\n",
       "    <tr>\n",
       "      <th>0</th>\n",
       "      <td>PassengerId</td>\n",
       "      <td>Survived</td>\n",
       "      <td>Pclass</td>\n",
       "      <td>Name</td>\n",
       "      <td>Sex</td>\n",
       "      <td>Age</td>\n",
       "      <td>SibSp</td>\n",
       "      <td>Parch</td>\n",
       "      <td>Ticket</td>\n",
       "      <td>Fare</td>\n",
       "      <td>Cabin</td>\n",
       "      <td>Embarked</td>\n",
       "      <td>0</td>\n",
       "    </tr>\n",
       "    <tr>\n",
       "      <th>1</th>\n",
       "      <td>1</td>\n",
       "      <td>0</td>\n",
       "      <td>3</td>\n",
       "      <td>Braund, Mr. Owen Harris</td>\n",
       "      <td>male</td>\n",
       "      <td>22</td>\n",
       "      <td>1</td>\n",
       "      <td>0</td>\n",
       "      <td>A/5 21171</td>\n",
       "      <td>7.25</td>\n",
       "      <td>NaN</td>\n",
       "      <td>S</td>\n",
       "      <td>0</td>\n",
       "    </tr>\n",
       "    <tr>\n",
       "      <th>2</th>\n",
       "      <td>2</td>\n",
       "      <td>1</td>\n",
       "      <td>1</td>\n",
       "      <td>Cumings, Mrs. John Bradley (Florence Briggs Th...</td>\n",
       "      <td>female</td>\n",
       "      <td>38</td>\n",
       "      <td>1</td>\n",
       "      <td>0</td>\n",
       "      <td>PC 17599</td>\n",
       "      <td>71.2833</td>\n",
       "      <td>C85</td>\n",
       "      <td>C</td>\n",
       "      <td>0</td>\n",
       "    </tr>\n",
       "    <tr>\n",
       "      <th>3</th>\n",
       "      <td>3</td>\n",
       "      <td>1</td>\n",
       "      <td>3</td>\n",
       "      <td>Heikkinen, Miss. Laina</td>\n",
       "      <td>female</td>\n",
       "      <td>26</td>\n",
       "      <td>0</td>\n",
       "      <td>0</td>\n",
       "      <td>STON/O2. 3101282</td>\n",
       "      <td>7.925</td>\n",
       "      <td>NaN</td>\n",
       "      <td>S</td>\n",
       "      <td>0</td>\n",
       "    </tr>\n",
       "    <tr>\n",
       "      <th>4</th>\n",
       "      <td>4</td>\n",
       "      <td>1</td>\n",
       "      <td>1</td>\n",
       "      <td>Futrelle, Mrs. Jacques Heath (Lily May Peel)</td>\n",
       "      <td>female</td>\n",
       "      <td>35</td>\n",
       "      <td>1</td>\n",
       "      <td>0</td>\n",
       "      <td>113803</td>\n",
       "      <td>53.1</td>\n",
       "      <td>C123</td>\n",
       "      <td>S</td>\n",
       "      <td>0</td>\n",
       "    </tr>\n",
       "    <tr>\n",
       "      <th>5</th>\n",
       "      <td>5</td>\n",
       "      <td>0</td>\n",
       "      <td>3</td>\n",
       "      <td>Allen, Mr. William Henry</td>\n",
       "      <td>male</td>\n",
       "      <td>35</td>\n",
       "      <td>0</td>\n",
       "      <td>0</td>\n",
       "      <td>373450</td>\n",
       "      <td>8.05</td>\n",
       "      <td>NaN</td>\n",
       "      <td>S</td>\n",
       "      <td>0</td>\n",
       "    </tr>\n",
       "  </tbody>\n",
       "</table>\n",
       "</div>"
      ],
      "text/plain": [
       "             0         1       2  \\\n",
       "0  PassengerId  Survived  Pclass   \n",
       "1            1         0       3   \n",
       "2            2         1       1   \n",
       "3            3         1       3   \n",
       "4            4         1       1   \n",
       "5            5         0       3   \n",
       "\n",
       "                                                   3       4    5      6  \\\n",
       "0                                               Name     Sex  Age  SibSp   \n",
       "1                            Braund, Mr. Owen Harris    male   22      1   \n",
       "2  Cumings, Mrs. John Bradley (Florence Briggs Th...  female   38      1   \n",
       "3                             Heikkinen, Miss. Laina  female   26      0   \n",
       "4       Futrelle, Mrs. Jacques Heath (Lily May Peel)  female   35      1   \n",
       "5                           Allen, Mr. William Henry    male   35      0   \n",
       "\n",
       "       7                 8        9     10        11  ex  \n",
       "0  Parch            Ticket     Fare  Cabin  Embarked   0  \n",
       "1      0         A/5 21171     7.25    NaN         S   0  \n",
       "2      0          PC 17599  71.2833    C85         C   0  \n",
       "3      0  STON/O2. 3101282    7.925    NaN         S   0  \n",
       "4      0            113803     53.1   C123         S   0  \n",
       "5      0            373450     8.05    NaN         S   0  "
      ]
     },
     "execution_count": 32,
     "metadata": {},
     "output_type": "execute_result"
    }
   ],
   "source": [
    "#칼럼 추가는 읽어들인 파일명[칼럼명]='값'으로 할당 가능!\n",
    "readed_data['ex']=0\n",
    "readed_data.head(6)\n",
    "#결론 ndarray나 Series나 칼럼 추가시 할당한 값은 모두 같은 값으로 초기화 됨"
   ]
  },
  {
   "cell_type": "code",
   "execution_count": 40,
   "id": "72c85d52",
   "metadata": {},
   "outputs": [
    {
     "data": {
      "text/html": [
       "<div>\n",
       "<style scoped>\n",
       "    .dataframe tbody tr th:only-of-type {\n",
       "        vertical-align: middle;\n",
       "    }\n",
       "\n",
       "    .dataframe tbody tr th {\n",
       "        vertical-align: top;\n",
       "    }\n",
       "\n",
       "    .dataframe thead th {\n",
       "        text-align: right;\n",
       "    }\n",
       "</style>\n",
       "<table border=\"1\" class=\"dataframe\">\n",
       "  <thead>\n",
       "    <tr style=\"text-align: right;\">\n",
       "      <th></th>\n",
       "      <th>0</th>\n",
       "      <th>1</th>\n",
       "      <th>2</th>\n",
       "      <th>3</th>\n",
       "      <th>4</th>\n",
       "      <th>5</th>\n",
       "      <th>6</th>\n",
       "      <th>7</th>\n",
       "      <th>8</th>\n",
       "      <th>9</th>\n",
       "      <th>10</th>\n",
       "      <th>11</th>\n",
       "      <th>ex</th>\n",
       "      <th>new_multiply</th>\n",
       "    </tr>\n",
       "  </thead>\n",
       "  <tbody>\n",
       "    <tr>\n",
       "      <th>0</th>\n",
       "      <td>PassengerId</td>\n",
       "      <td>Survived</td>\n",
       "      <td>Pclass</td>\n",
       "      <td>Name</td>\n",
       "      <td>Sex</td>\n",
       "      <td>Age</td>\n",
       "      <td>SibSp</td>\n",
       "      <td>Parch</td>\n",
       "      <td>Ticket</td>\n",
       "      <td>Fare</td>\n",
       "      <td>Cabin</td>\n",
       "      <td>Embarked</td>\n",
       "      <td>0</td>\n",
       "      <td>FareFareFareFareFareFareFareFareFareFare</td>\n",
       "    </tr>\n",
       "    <tr>\n",
       "      <th>1</th>\n",
       "      <td>1</td>\n",
       "      <td>0</td>\n",
       "      <td>3</td>\n",
       "      <td>Braund, Mr. Owen Harris</td>\n",
       "      <td>male</td>\n",
       "      <td>22</td>\n",
       "      <td>1</td>\n",
       "      <td>0</td>\n",
       "      <td>A/5 21171</td>\n",
       "      <td>7.25</td>\n",
       "      <td>NaN</td>\n",
       "      <td>S</td>\n",
       "      <td>0</td>\n",
       "      <td>7.257.257.257.257.257.257.257.257.257.25</td>\n",
       "    </tr>\n",
       "    <tr>\n",
       "      <th>2</th>\n",
       "      <td>2</td>\n",
       "      <td>1</td>\n",
       "      <td>1</td>\n",
       "      <td>Cumings, Mrs. John Bradley (Florence Briggs Th...</td>\n",
       "      <td>female</td>\n",
       "      <td>38</td>\n",
       "      <td>1</td>\n",
       "      <td>0</td>\n",
       "      <td>PC 17599</td>\n",
       "      <td>71.2833</td>\n",
       "      <td>C85</td>\n",
       "      <td>C</td>\n",
       "      <td>0</td>\n",
       "      <td>71.283371.283371.283371.283371.283371.283371.2...</td>\n",
       "    </tr>\n",
       "    <tr>\n",
       "      <th>3</th>\n",
       "      <td>3</td>\n",
       "      <td>1</td>\n",
       "      <td>3</td>\n",
       "      <td>Heikkinen, Miss. Laina</td>\n",
       "      <td>female</td>\n",
       "      <td>26</td>\n",
       "      <td>0</td>\n",
       "      <td>0</td>\n",
       "      <td>STON/O2. 3101282</td>\n",
       "      <td>7.925</td>\n",
       "      <td>NaN</td>\n",
       "      <td>S</td>\n",
       "      <td>0</td>\n",
       "      <td>7.9257.9257.9257.9257.9257.9257.9257.9257.9257...</td>\n",
       "    </tr>\n",
       "    <tr>\n",
       "      <th>4</th>\n",
       "      <td>4</td>\n",
       "      <td>1</td>\n",
       "      <td>1</td>\n",
       "      <td>Futrelle, Mrs. Jacques Heath (Lily May Peel)</td>\n",
       "      <td>female</td>\n",
       "      <td>35</td>\n",
       "      <td>1</td>\n",
       "      <td>0</td>\n",
       "      <td>113803</td>\n",
       "      <td>53.1</td>\n",
       "      <td>C123</td>\n",
       "      <td>S</td>\n",
       "      <td>0</td>\n",
       "      <td>53.153.153.153.153.153.153.153.153.153.1</td>\n",
       "    </tr>\n",
       "  </tbody>\n",
       "</table>\n",
       "</div>"
      ],
      "text/plain": [
       "             0         1       2  \\\n",
       "0  PassengerId  Survived  Pclass   \n",
       "1            1         0       3   \n",
       "2            2         1       1   \n",
       "3            3         1       3   \n",
       "4            4         1       1   \n",
       "\n",
       "                                                   3       4    5      6  \\\n",
       "0                                               Name     Sex  Age  SibSp   \n",
       "1                            Braund, Mr. Owen Harris    male   22      1   \n",
       "2  Cumings, Mrs. John Bradley (Florence Briggs Th...  female   38      1   \n",
       "3                             Heikkinen, Miss. Laina  female   26      0   \n",
       "4       Futrelle, Mrs. Jacques Heath (Lily May Peel)  female   35      1   \n",
       "\n",
       "       7                 8        9     10        11  ex  \\\n",
       "0  Parch            Ticket     Fare  Cabin  Embarked   0   \n",
       "1      0         A/5 21171     7.25    NaN         S   0   \n",
       "2      0          PC 17599  71.2833    C85         C   0   \n",
       "3      0  STON/O2. 3101282    7.925    NaN         S   0   \n",
       "4      0            113803     53.1   C123         S   0   \n",
       "\n",
       "                                        new_multiply  \n",
       "0           FareFareFareFareFareFareFareFareFareFare  \n",
       "1           7.257.257.257.257.257.257.257.257.257.25  \n",
       "2  71.283371.283371.283371.283371.283371.283371.2...  \n",
       "3  7.9257.9257.9257.9257.9257.9257.9257.9257.9257...  \n",
       "4           53.153.153.153.153.153.153.153.153.153.1  "
      ]
     },
     "execution_count": 40,
     "metadata": {},
     "output_type": "execute_result"
    }
   ],
   "source": [
    "#상수배 개념으로 값 할당도 가능\n",
    "readed_data['new_multiply']=readed_data[9]*10\n",
    "readed_data.head(5)"
   ]
  },
  {
   "cell_type": "code",
   "execution_count": null,
   "id": "d30a5ff6",
   "metadata": {},
   "outputs": [],
   "source": []
  }
 ],
 "metadata": {
  "kernelspec": {
   "display_name": "Python 3",
   "language": "python",
   "name": "python3"
  },
  "language_info": {
   "codemirror_mode": {
    "name": "ipython",
    "version": 3
   },
   "file_extension": ".py",
   "mimetype": "text/x-python",
   "name": "python",
   "nbconvert_exporter": "python",
   "pygments_lexer": "ipython3",
   "version": "3.8.8"
  }
 },
 "nbformat": 4,
 "nbformat_minor": 5
}
