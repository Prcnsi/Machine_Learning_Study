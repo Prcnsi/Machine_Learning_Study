{
 "cells": [
  {
   "cell_type": "markdown",
   "id": "1b2e2276",
   "metadata": {},
   "source": [
    "### 주제: 정확도라는 지표가 절대적인 것은 아님\n",
    "## Ex 1) titanic_train을 이용한 생존률 예측"
   ]
  },
  {
   "cell_type": "code",
   "execution_count": 20,
   "id": "eb05888e",
   "metadata": {},
   "outputs": [],
   "source": [
    "from sklearn.base import BaseEstimator\n",
    "\n",
    "\n",
    "# 생존 확률 예측 Class\n",
    "class Titanic_Survivor_Classifier(BaseEstimator):\n",
    "    def fit(self,X,y):\n",
    "        pass\n",
    "\n",
    "    # 생존자의 성별에 따른 생존확률 predict\n",
    "    def predict(self,X):\n",
    "        pred=np.zeros((X.shape[0],1))\n",
    "        for i in range(X.shape[0]):\n",
    "            if X['Sex'].iloc[i]==1:\n",
    "                pred[i]=0\n",
    "            else:\n",
    "                pred[i]==1\n",
    "        return pred"
   ]
  },
  {
   "cell_type": "code",
   "execution_count": 23,
   "id": "75715488",
   "metadata": {},
   "outputs": [
    {
     "name": "stdout",
     "output_type": "stream",
     "text": [
      "Titanic_Survivor_Classifier 예측의 정확도는: 0.6145\n"
     ]
    }
   ],
   "source": [
    "# 라이브러리,모듈등을 import\n",
    "import pandas as pd\n",
    "import numpy as np\n",
    "from sklearn.model_selection import train_test_split\n",
    "from sklearn.metrics import accuracy_score\n",
    "from sklearn.preprocessing import StandardScaler\n",
    "\n",
    "# 데이터 전처리!\n",
    "titanic_df=pd.read_csv('C:/Users/J-365/Documents/titanic_train.csv')\n",
    "y_titanic_df = titanic_df['Survived']\n",
    "X_titanic_df = titanic_df.drop(['Survived'], axis=1)\n",
    "X_titanic_df = transform_features(X_titanic_df)\n",
    "X_train, X_test, y_train, y_test = train_test_split(X_titanic_df, y_titanic_df, test_size=0.2, random_state=0)\n",
    "\n",
    "# 예측\n",
    "myclf=Titanic_Survivor_Classifier()\n",
    "myclf.fit(X_train,y_train)\n",
    "\n",
    "mypredictions=myclf.predict(X_test)\n",
    "print('Titanic_Survivor_Classifier 예측의 정확도는: {0:.4f}'.format(accuracy_score(y_test,mypredictions)))"
   ]
  },
  {
   "cell_type": "markdown",
   "id": "95d75271",
   "metadata": {},
   "source": [
    "## Ex 2) load_digits를 이용한 글자 분류"
   ]
  },
  {
   "cell_type": "code",
   "execution_count": 25,
   "id": "a53ebad9",
   "metadata": {},
   "outputs": [],
   "source": [
    "# 모튤 import\n",
    "from sklearn.datasets import load_digits\n",
    "from sklearn.model_selection import train_test_split\n",
    "from sklearn.base import BaseEstimator\n",
    "from sklearn.metrics import accuracy_score"
   ]
  },
  {
   "cell_type": "code",
   "execution_count": 26,
   "id": "2bc6baa3",
   "metadata": {},
   "outputs": [],
   "source": [
    "# 불균형한 데이터 세트와 Dummy Classifier 생성\n",
    "class MyFakeClassifier(BaseEstimator):\n",
    "    def fit(self,X,y):\n",
    "        pass\n",
    "\n",
    "    def predict(self,X):\n",
    "        return np.zeros((len(X),1),dtype=bool)\n",
    "    \n",
    "digits=load_digits()\n",
    "\n",
    "y=(digits.target==7).astype(int)\n",
    "X_train,X_test,y_train,y_test=train_test_split(digits.data,y,random_state=11)"
   ]
  },
  {
   "cell_type": "code",
   "execution_count": 29,
   "id": "95a2af29",
   "metadata": {},
   "outputs": [
    {
     "name": "stdout",
     "output_type": "stream",
     "text": [
      "레이블 Test set 크기: (450,)\n",
      "Test set label의 0과 1의 분포도\n",
      "0    405\n",
      "1     45\n",
      "dtype: int64\n",
      "모든 예측을 0으로 하여도 정확도는: 0.900\n"
     ]
    }
   ],
   "source": [
    "# 불균형한 레이블 데이터 분포도 확인\n",
    "print('레이블 Test set 크기:',y_test.shape)\n",
    "print('Test set label의 0과 1의 분포도')\n",
    "print(pd.Series(y_test).value_counts())\n",
    "\n",
    "\n",
    "# Dummy Classifier로 학습,예측,정확도 평가\n",
    "fakeclf=MyFakeClassifier()\n",
    "fakeclf.fit(X_train,y_train)\n",
    "fakepred=fakeclf.predict(X_test)\n",
    "print('모든 예측을 0으로 하여도 정확도는: {:.3f}'.format(accuracy_score(y_test,fakepred)))"
   ]
  },
  {
   "cell_type": "markdown",
   "id": "662cb3ce",
   "metadata": {},
   "source": [
    "## 결론: 불균형한 label data set에서는 정확도를 성능 수치로 사용하면 안 됨"
   ]
  }
 ],
 "metadata": {
  "kernelspec": {
   "display_name": "Python 3",
   "language": "python",
   "name": "python3"
  },
  "language_info": {
   "codemirror_mode": {
    "name": "ipython",
    "version": 3
   },
   "file_extension": ".py",
   "mimetype": "text/x-python",
   "name": "python",
   "nbconvert_exporter": "python",
   "pygments_lexer": "ipython3",
   "version": "3.8.8"
  }
 },
 "nbformat": 4,
 "nbformat_minor": 5
}
